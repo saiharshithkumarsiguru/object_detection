{
 "cells": [
  {
   "cell_type": "code",
   "execution_count": 2,
   "metadata": {},
   "outputs": [
    {
     "name": "stdout",
     "output_type": "stream",
     "text": [
      "tracking <tf.Variable 'Variable_5:0' shape=(9, 4) dtype=float32> anchors\n",
      "tracking <tf.Variable 'Variable_6:0' shape=(9, 4) dtype=float32> anchors\n",
      "tracking <tf.Variable 'Variable_7:0' shape=(9, 4) dtype=float32> anchors\n",
      "tracking <tf.Variable 'Variable_8:0' shape=(9, 4) dtype=float32> anchors\n",
      "tracking <tf.Variable 'Variable_9:0' shape=(9, 4) dtype=float32> anchors\n",
      "person  :  76.33112668991089\n",
      "person  :  83.83046388626099\n",
      "person  :  96.08134031295776\n",
      "person  :  96.66982889175415\n",
      "motorcycle  :  71.07154726982117\n",
      "dog  :  94.58073377609253\n",
      "car  :  55.414026975631714\n",
      "person  :  86.19716167449951\n"
     ]
    }
   ],
   "source": [
    "from imageai.Detection import ObjectDetection\n",
    "import os\n",
    "\n",
    "from PIL import Image\n",
    "try:  \n",
    "    img  = Image.open('image3.jpg')  \n",
    "except IOError: \n",
    "    pass\n",
    "\n",
    "img.show()\n",
    "execution_path = os.getcwd()\n",
    "\n",
    "detector = ObjectDetection()\n",
    "detector.setModelTypeAsRetinaNet()\n",
    "detector.setModelPath( os.path.join(execution_path , \"resnet50_coco_best_v2.0.1.h5\"))\n",
    "detector.loadModel()\n",
    "\n",
    "detections = detector.detectObjectsFromImage(input_image=os.path.join(execution_path , \"image3.jpg\"),output_image_path=os.path.join(execution_path , \"imagenew11.png\"))\n",
    "ll=list()\n",
    "for eachObject in detections:\n",
    "    print(eachObject[\"name\"] , \" : \" , eachObject[\"percentage_probability\"] )\n",
    "    ll.append(eachObject[\"name\"])\n",
    "\n",
    "    \n",
    "import pandas as pd\n",
    "df=pd.DataFrame(ll)\n",
    "df.columns=['categories']\n",
    "df.categories.value_counts()\n",
    "try:  \n",
    "    img  = Image.open('imagenew11.png')  \n",
    "except IOError: \n",
    "    pass\n",
    "\n",
    "img.show()\n"
   ]
  }
 ],
 "metadata": {
  "kernelspec": {
   "display_name": "Python 3",
   "language": "python",
   "name": "python3"
  },
  "language_info": {
   "codemirror_mode": {
    "name": "ipython",
    "version": 3
   },
   "file_extension": ".py",
   "mimetype": "text/x-python",
   "name": "python",
   "nbconvert_exporter": "python",
   "pygments_lexer": "ipython3",
   "version": "3.6.5"
  }
 },
 "nbformat": 4,
 "nbformat_minor": 2
}
